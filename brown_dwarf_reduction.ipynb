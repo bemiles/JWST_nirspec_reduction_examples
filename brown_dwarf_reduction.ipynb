{
 "cells": [
  {
   "cell_type": "code",
   "execution_count": 1,
   "metadata": {},
   "outputs": [],
   "source": [
    "from astropy.io import fits\n",
    "import glob, os\n",
    "from subprocess import call\n",
    "from astropy.io import fits\n",
    "import time\n",
    "\n",
    "# jwst\n",
    "import jwst\n",
    "from jwst.pipeline import Detector1Pipeline, Spec2Pipeline, Spec3Pipeline\n",
    "from jwst.cube_build import cube_build_step\n",
    "from jwst import datamodels\n",
    "import matplotlib.pyplot as plt\n",
    "import numpy as n\n"
   ]
  },
  {
   "cell_type": "code",
   "execution_count": 2,
   "metadata": {},
   "outputs": [
    {
     "name": "stdout",
     "output_type": "stream",
     "text": [
      "JWST pipeline version 1.4.7a1.dev23+g0508e862\n"
     ]
    }
   ],
   "source": [
    "# Print out what pipeline version we're using\n",
    "print('JWST pipeline version',jwst.__version__)"
   ]
  },
  {
   "cell_type": "code",
   "execution_count": 7,
   "metadata": {},
   "outputs": [],
   "source": [
    "cache_dir = './'\n",
    "\n",
    "det1_dir = 'stage1_dither1/' # Detector1 pipeline outputs will go here\n",
    "spec2_dir = 'stage2_dither1/' # Spec2 pipeline outputs will go here\n",
    "spec3_dir = 'stage3_dither1/' # Spec3 pipeline outputs will go here\n",
    "\n",
    "# We need to check that the desired output directories exist, and if not create them\n",
    "if not os.path.exists(det1_dir):\n",
    "    os.makedirs(det1_dir)\n",
    "if not os.path.exists(spec2_dir):\n",
    "    os.makedirs(spec2_dir)\n",
    "if not os.path.exists(spec3_dir):\n",
    "    os.makedirs(spec3_dir)"
   ]
  },
  {
   "cell_type": "code",
   "execution_count": 8,
   "metadata": {},
   "outputs": [
    {
     "name": "stdout",
     "output_type": "stream",
     "text": [
      "['data/NRS00001-S1S2-F290LP-G395H-03_1_491_SE_2021-10-30T12h15m00.cts_NRS1_modified.fits', 'data/NRS00001-S1S2-F290LP-G395H-04_1_491_SE_2021-10-30T12h15m00.cts_NRS1_modified.fits', 'data/NRS00001-S1S2-F290LP-G395H-02_1_491_SE_2021-10-30T12h15m00.cts_NRS1_modified.fits', 'data/NRS00001-S1S2-F290LP-G395H-04_1_492_SE_2021-10-30T12h15m00.cts_NRS2_modified.fits', 'data/NRS00001-S1S2-F290LP-G395H-02_1_492_SE_2021-10-30T12h15m00.cts_NRS2_modified.fits', 'data/NRS00001-S1S2-F290LP-G395H-03_1_492_SE_2021-10-30T12h15m00.cts_NRS2_modified.fits', 'data/NRS00001-S1S2-F290LP-G395H-01_1_491_SE_2021-10-30T12h15m00.cts_NRS1_modified.fits', 'data/NRS00001-S1S2-F290LP-G395H-01_1_492_SE_2021-10-30T12h15m00.cts_NRS2_modified.fits']\n"
     ]
    }
   ],
   "source": [
    "rate_files = glob.glob('data/*modified.fits')\n",
    "print(rate_files)"
   ]
  },
  {
   "cell_type": "code",
   "execution_count": 10,
   "metadata": {},
   "outputs": [
    {
     "name": "stderr",
     "output_type": "stream",
     "text": [
      "2022-05-20 10:26:27,710 - stpipe.Spec2Pipeline - INFO - Spec2Pipeline instance created.\n",
      "2022-05-20 10:26:27,713 - stpipe.Spec2Pipeline.bkg_subtract - INFO - BackgroundStep instance created.\n",
      "2022-05-20 10:26:27,721 - stpipe.Spec2Pipeline.assign_wcs - INFO - AssignWcsStep instance created.\n",
      "2022-05-20 10:26:27,726 - stpipe.Spec2Pipeline.imprint_subtract - INFO - ImprintStep instance created.\n",
      "2022-05-20 10:26:27,731 - stpipe.Spec2Pipeline.msa_flagging - INFO - MSAFlagOpenStep instance created.\n",
      "2022-05-20 10:26:27,736 - stpipe.Spec2Pipeline.extract_2d - INFO - Extract2dStep instance created.\n",
      "2022-05-20 10:26:27,747 - stpipe.Spec2Pipeline.master_background - INFO - MasterBackgroundNrsSlitsStep instance created.\n",
      "2022-05-20 10:26:27,751 - stpipe.Spec2Pipeline.master_background.flat_field - INFO - FlatFieldStep instance created.\n",
      "2022-05-20 10:26:27,755 - stpipe.Spec2Pipeline.master_background.pathloss - INFO - PathLossStep instance created.\n",
      "2022-05-20 10:26:27,760 - stpipe.Spec2Pipeline.master_background.barshadow - INFO - BarShadowStep instance created.\n",
      "2022-05-20 10:26:27,763 - stpipe.Spec2Pipeline.master_background.photom - INFO - PhotomStep instance created.\n",
      "2022-05-20 10:26:27,767 - stpipe.Spec2Pipeline.wavecorr - INFO - WavecorrStep instance created.\n",
      "2022-05-20 10:26:27,771 - stpipe.Spec2Pipeline.flat_field - INFO - FlatFieldStep instance created.\n",
      "2022-05-20 10:26:27,776 - stpipe.Spec2Pipeline.srctype - INFO - SourceTypeStep instance created.\n",
      "2022-05-20 10:26:27,780 - stpipe.Spec2Pipeline.straylight - INFO - StraylightStep instance created.\n",
      "2022-05-20 10:26:27,784 - stpipe.Spec2Pipeline.fringe - INFO - FringeStep instance created.\n",
      "2022-05-20 10:26:27,789 - stpipe.Spec2Pipeline.pathloss - INFO - PathLossStep instance created.\n",
      "2022-05-20 10:26:27,797 - stpipe.Spec2Pipeline.barshadow - INFO - BarShadowStep instance created.\n",
      "2022-05-20 10:26:27,811 - stpipe.Spec2Pipeline.wfss_contam - INFO - WfssContamStep instance created.\n",
      "2022-05-20 10:26:27,815 - stpipe.Spec2Pipeline.photom - INFO - PhotomStep instance created.\n",
      "2022-05-20 10:26:27,822 - stpipe.Spec2Pipeline.resample_spec - INFO - ResampleSpecStep instance created.\n",
      "2022-05-20 10:26:27,828 - stpipe.Spec2Pipeline.cube_build - INFO - CubeBuildStep instance created.\n",
      "2022-05-20 10:26:27,834 - stpipe.Spec2Pipeline.extract_1d - INFO - Extract1dStep instance created.\n",
      "Exception ignored in: <function DataModel.__del__ at 0x7fc017c12d30>\n",
      "Traceback (most recent call last):\n",
      "  File \"/Users/bemiles/miniconda3/lib/python3.8/site-packages/stdatamodels/model_base.py\", line 349, in __del__\n",
      "    self.close()\n",
      "  File \"/Users/bemiles/miniconda3/lib/python3.8/site-packages/jwst/datamodels/container.py\", line 378, in close\n",
      "    if not self._iscopy:\n",
      "  File \"/Users/bemiles/miniconda3/lib/python3.8/site-packages/stdatamodels/properties.py\", line 320, in __getattr__\n",
      "    raise AttributeError('No attribute {0}'.format(attr))\n",
      "AttributeError: No attribute _iscopy\n",
      "2022-05-20 10:26:27,963 - stpipe.Spec2Pipeline - INFO - Step Spec2Pipeline running with args ('data/NRS00001-S1S2-F290LP-G395H-03_1_491_SE_2021-10-30T12h15m00.cts_NRS1_modified.fits',).\n",
      "2022-05-20 10:26:28,029 - stpipe.Spec2Pipeline - INFO - Step Spec2Pipeline parameters are: {'pre_hooks': [], 'post_hooks': [], 'output_file': None, 'output_dir': None, 'output_ext': '.fits', 'output_use_model': False, 'output_use_index': True, 'save_results': False, 'skip': False, 'suffix': None, 'search_output_file': True, 'input_dir': '', 'save_bsub': False, 'fail_on_exception': True, 'save_wfss_esec': False, 'steps': {'bkg_subtract': {'pre_hooks': [], 'post_hooks': [], 'output_file': None, 'output_dir': None, 'output_ext': '.fits', 'output_use_model': False, 'output_use_index': True, 'save_results': False, 'skip': False, 'suffix': None, 'search_output_file': True, 'input_dir': '', 'save_combined_background': False, 'sigma': 3.0, 'maxiters': None}, 'assign_wcs': {'pre_hooks': [], 'post_hooks': [], 'output_file': None, 'output_dir': None, 'output_ext': '.fits', 'output_use_model': False, 'output_use_index': True, 'save_results': False, 'skip': False, 'suffix': None, 'search_output_file': True, 'input_dir': '', 'sip_approx': True, 'sip_max_pix_error': 0.25, 'sip_degree': None, 'sip_max_inv_pix_error': 0.25, 'sip_inv_degree': None, 'sip_npoints': 32, 'slit_y_low': -0.55, 'slit_y_high': 0.55}, 'imprint_subtract': {'pre_hooks': [], 'post_hooks': [], 'output_file': None, 'output_dir': None, 'output_ext': '.fits', 'output_use_model': False, 'output_use_index': True, 'save_results': False, 'skip': False, 'suffix': None, 'search_output_file': True, 'input_dir': ''}, 'msa_flagging': {'pre_hooks': [], 'post_hooks': [], 'output_file': None, 'output_dir': None, 'output_ext': '.fits', 'output_use_model': False, 'output_use_index': True, 'save_results': False, 'skip': False, 'suffix': None, 'search_output_file': True, 'input_dir': ''}, 'extract_2d': {'pre_hooks': [], 'post_hooks': [], 'output_file': None, 'output_dir': None, 'output_ext': '.fits', 'output_use_model': False, 'output_use_index': True, 'save_results': False, 'skip': False, 'suffix': None, 'search_output_file': True, 'input_dir': '', 'slit_name': None, 'extract_orders': None, 'tsgrism_extract_height': None, 'wfss_extract_half_height': 5, 'grism_objects': None, 'mmag_extract': 99.0}, 'master_background': {'pre_hooks': [], 'post_hooks': [], 'output_file': None, 'output_dir': None, 'output_ext': '.fits', 'output_use_model': True, 'output_use_index': True, 'save_results': False, 'skip': False, 'suffix': None, 'search_output_file': True, 'input_dir': '', 'force_subtract': False, 'save_background': False, 'user_background': None, 'inverse': False, 'steps': {'flat_field': {'pre_hooks': [], 'post_hooks': [], 'output_file': None, 'output_dir': None, 'output_ext': '.fits', 'output_use_model': False, 'output_use_index': True, 'save_results': False, 'skip': False, 'suffix': None, 'search_output_file': True, 'input_dir': '', 'save_interpolated_flat': False, 'user_supplied_flat': None, 'inverse': False}, 'pathloss': {'pre_hooks': [], 'post_hooks': [], 'output_file': None, 'output_dir': None, 'output_ext': '.fits', 'output_use_model': False, 'output_use_index': True, 'save_results': False, 'skip': False, 'suffix': None, 'search_output_file': True, 'input_dir': '', 'inverse': False, 'source_type': None}, 'barshadow': {'pre_hooks': [], 'post_hooks': [], 'output_file': None, 'output_dir': None, 'output_ext': '.fits', 'output_use_model': False, 'output_use_index': True, 'save_results': False, 'skip': False, 'suffix': None, 'search_output_file': True, 'input_dir': '', 'inverse': False, 'source_type': None}, 'photom': {'pre_hooks': [], 'post_hooks': [], 'output_file': None, 'output_dir': None, 'output_ext': '.fits', 'output_use_model': False, 'output_use_index': True, 'save_results': False, 'skip': False, 'suffix': None, 'search_output_file': True, 'input_dir': '', 'inverse': False, 'source_type': None}}}, 'wavecorr': {'pre_hooks': [], 'post_hooks': [], 'output_file': None, 'output_dir': None, 'output_ext': '.fits', 'output_use_model': False, 'output_use_index': True, 'save_results': False, 'skip': False, 'suffix': None, 'search_output_file': True, 'input_dir': ''}, 'flat_field': {'pre_hooks': [], 'post_hooks': [], 'output_file': None, 'output_dir': None, 'output_ext': '.fits', 'output_use_model': False, 'output_use_index': True, 'save_results': False, 'skip': False, 'suffix': None, 'search_output_file': True, 'input_dir': '', 'save_interpolated_flat': False, 'user_supplied_flat': None, 'inverse': False}, 'srctype': {'pre_hooks': [], 'post_hooks': [], 'output_file': None, 'output_dir': None, 'output_ext': '.fits', 'output_use_model': False, 'output_use_index': True, 'save_results': False, 'skip': False, 'suffix': None, 'search_output_file': True, 'input_dir': '', 'source_type': None}, 'straylight': {'pre_hooks': [], 'post_hooks': [], 'output_file': None, 'output_dir': None, 'output_ext': '.fits', 'output_use_model': False, 'output_use_index': True, 'save_results': False, 'skip': False, 'suffix': None, 'search_output_file': True, 'input_dir': '', 'method': 'ModShepard', 'roi': 50, 'power': 1.0}, 'fringe': {'pre_hooks': [], 'post_hooks': [], 'output_file': None, 'output_dir': None, 'output_ext': '.fits', 'output_use_model': False, 'output_use_index': True, 'save_results': False, 'skip': False, 'suffix': None, 'search_output_file': True, 'input_dir': ''}, 'pathloss': {'pre_hooks': [], 'post_hooks': [], 'output_file': None, 'output_dir': None, 'output_ext': '.fits', 'output_use_model': False, 'output_use_index': True, 'save_results': False, 'skip': False, 'suffix': None, 'search_output_file': True, 'input_dir': '', 'inverse': False, 'source_type': None}, 'barshadow': {'pre_hooks': [], 'post_hooks': [], 'output_file': None, 'output_dir': None, 'output_ext': '.fits', 'output_use_model': False, 'output_use_index': True, 'save_results': False, 'skip': False, 'suffix': None, 'search_output_file': True, 'input_dir': '', 'inverse': False, 'source_type': None}, 'wfss_contam': {'pre_hooks': [], 'post_hooks': [], 'output_file': None, 'output_dir': None, 'output_ext': '.fits', 'output_use_model': False, 'output_use_index': True, 'save_results': False, 'skip': True, 'suffix': None, 'search_output_file': True, 'input_dir': '', 'save_simulated_image': False, 'save_contam_images': False, 'maximum_cores': 'none'}, 'photom': {'pre_hooks': [], 'post_hooks': [], 'output_file': None, 'output_dir': None, 'output_ext': '.fits', 'output_use_model': False, 'output_use_index': True, 'save_results': False, 'skip': False, 'suffix': None, 'search_output_file': True, 'input_dir': '', 'inverse': False, 'source_type': None}, 'resample_spec': {'pre_hooks': [], 'post_hooks': [], 'output_file': None, 'output_dir': None, 'output_ext': '.fits', 'output_use_model': False, 'output_use_index': True, 'save_results': False, 'skip': False, 'suffix': None, 'search_output_file': True, 'input_dir': '', 'pixfrac': 1.0, 'kernel': 'square', 'fillval': 'INDEF', 'weight_type': 'ivm', 'output_shape': None, 'crpix': None, 'crval': None, 'rotation': None, 'pixel_scale_ratio': 1.0, 'pixel_scale': None, 'single': False, 'blendheaders': True, 'allowed_memory': None}, 'cube_build': {'pre_hooks': [], 'post_hooks': [], 'output_file': None, 'output_dir': None, 'output_ext': '.fits', 'output_use_model': True, 'output_use_index': True, 'save_results': False, 'skip': False, 'suffix': None, 'search_output_file': False, 'input_dir': '', 'channel': 'all', 'band': 'all', 'grating': 'all', 'filter': 'all', 'output_type': 'band', 'scale1': 0.0, 'scale2': 0.0, 'scalew': 0.0, 'weighting': 'emsm', 'coord_system': 'skyalign', 'rois': 0.0, 'roiw': 0.0, 'weight_power': 2.0, 'wavemin': None, 'wavemax': None, 'single': False, 'skip_dqflagging': False}, 'extract_1d': {'pre_hooks': [], 'post_hooks': [], 'output_file': None, 'output_dir': None, 'output_ext': '.fits', 'output_use_model': False, 'output_use_index': True, 'save_results': False, 'skip': False, 'suffix': None, 'search_output_file': True, 'input_dir': '', 'smoothing_length': None, 'bkg_fit': None, 'bkg_order': None, 'bkg_sigma_clip': 3.0, 'log_increment': 50, 'subtract_background': None, 'use_source_posn': None, 'center_xy': None, 'apply_apcorr': True, 'soss_threshold': 0.01, 'soss_n_os': 2, 'soss_transform': None, 'soss_tikfac': None, 'soss_width': 40.0, 'soss_bad_pix': 'model', 'soss_modelname': None}}}\n",
      "2022-05-20 10:26:28,071 - stpipe.Spec2Pipeline - INFO - First argument data/NRS00001-S1S2-F290LP-G395H-03_1_491_SE_2021-10-30T12h15m00.cts_NRS1_modified.fits does not appear to be a model\n",
      "2022-05-20 10:26:28,072 - stpipe.Spec2Pipeline - INFO - Starting calwebb_spec2 ...\n",
      "2022-05-20 10:26:28,077 - stpipe.Spec2Pipeline - INFO - Processing product data/NRS00001-S1S2-F290LP-G395H-03_1_491_SE_2021-10-30T12h15m00.cts_NRS1_modified\n",
      "2022-05-20 10:26:28,078 - stpipe.Spec2Pipeline - INFO - Working on input data/NRS00001-S1S2-F290LP-G395H-03_1_491_SE_2021-10-30T12h15m00.cts_NRS1_modified.fits ...\n",
      "Traceback (most recent call last):\n",
      "  File \"/Users/bemiles/miniconda3/lib/python3.8/site-packages/jwst/pipeline/calwebb_spec2.py\", line 117, in process\n",
      "    result = self.process_exposure_product(\n",
      "  File \"/Users/bemiles/miniconda3/lib/python3.8/site-packages/jwst/pipeline/calwebb_spec2.py\", line 177, in process_exposure_product\n",
      "    with self.open_model(science_member) as science:\n",
      "  File \"/Users/bemiles/miniconda3/lib/python3.8/site-packages/stpipe/step.py\", line 1145, in open_model\n",
      "    return datamodels_open(self.make_input_path(init), **kwargs)\n",
      "  File \"/Users/bemiles/miniconda3/lib/python3.8/site-packages/jwst/stpipe/core.py\", line 24, in _datamodels_open\n",
      "    return datamodels.open(init, **kwargs)\n",
      "  File \"/Users/bemiles/miniconda3/lib/python3.8/site-packages/jwst/datamodels/util.py\", line 217, in open\n",
      "    model = new_class(init, **kwargs)\n",
      "  File \"/Users/bemiles/miniconda3/lib/python3.8/site-packages/jwst/datamodels/ifuimage.py\", line 65, in __init__\n",
      "    super(IFUImageModel, self).__init__(init=init, **kwargs)\n",
      "  File \"/Users/bemiles/miniconda3/lib/python3.8/site-packages/stdatamodels/model_base.py\", line 174, in __init__\n",
      "    schema = asdf_schema.load_schema(self.schema_url, resolve_references=True)\n",
      "  File \"/Users/bemiles/miniconda3/lib/python3.8/site-packages/asdf/schema.py\", line 435, in load_schema\n",
      "    return copy.deepcopy(_load_schema_cached(url, resolver, resolve_references, resolve_local_refs))\n",
      "  File \"/Users/bemiles/miniconda3/lib/python3.8/site-packages/asdf/schema.py\", line 482, in _load_schema_cached\n",
      "    schema, url = loader(url)\n",
      "  File \"/Users/bemiles/miniconda3/lib/python3.8/site-packages/asdf/schema.py\", line 359, in load_schema\n",
      "    return _load_schema(url)\n",
      "  File \"/Users/bemiles/miniconda3/lib/python3.8/site-packages/asdf/schema.py\", line 323, in _load_schema\n",
      "    raise FileNotFoundError(\"Unable to fetch schema from non-file URL: \" + url)\n",
      "FileNotFoundError: Unable to fetch schema from non-file URL: http://stsci.edu/schemas/jwst_datamodel/ifuimage.schema\n"
     ]
    },
    {
     "ename": "RuntimeError",
     "evalue": "Traceback (most recent call last):\n  File \"/Users/bemiles/miniconda3/lib/python3.8/site-packages/jwst/pipeline/calwebb_spec2.py\", line 117, in process\n    result = self.process_exposure_product(\n  File \"/Users/bemiles/miniconda3/lib/python3.8/site-packages/jwst/pipeline/calwebb_spec2.py\", line 177, in process_exposure_product\n    with self.open_model(science_member) as science:\n  File \"/Users/bemiles/miniconda3/lib/python3.8/site-packages/stpipe/step.py\", line 1145, in open_model\n    return datamodels_open(self.make_input_path(init), **kwargs)\n  File \"/Users/bemiles/miniconda3/lib/python3.8/site-packages/jwst/stpipe/core.py\", line 24, in _datamodels_open\n    return datamodels.open(init, **kwargs)\n  File \"/Users/bemiles/miniconda3/lib/python3.8/site-packages/jwst/datamodels/util.py\", line 217, in open\n    model = new_class(init, **kwargs)\n  File \"/Users/bemiles/miniconda3/lib/python3.8/site-packages/jwst/datamodels/ifuimage.py\", line 65, in __init__\n    super(IFUImageModel, self).__init__(init=init, **kwargs)\n  File \"/Users/bemiles/miniconda3/lib/python3.8/site-packages/stdatamodels/model_base.py\", line 174, in __init__\n    schema = asdf_schema.load_schema(self.schema_url, resolve_references=True)\n  File \"/Users/bemiles/miniconda3/lib/python3.8/site-packages/asdf/schema.py\", line 435, in load_schema\n    return copy.deepcopy(_load_schema_cached(url, resolver, resolve_references, resolve_local_refs))\n  File \"/Users/bemiles/miniconda3/lib/python3.8/site-packages/asdf/schema.py\", line 482, in _load_schema_cached\n    schema, url = loader(url)\n  File \"/Users/bemiles/miniconda3/lib/python3.8/site-packages/asdf/schema.py\", line 359, in load_schema\n    return _load_schema(url)\n  File \"/Users/bemiles/miniconda3/lib/python3.8/site-packages/asdf/schema.py\", line 323, in _load_schema\n    raise FileNotFoundError(\"Unable to fetch schema from non-file URL: \" + url)\nFileNotFoundError: Unable to fetch schema from non-file URL: http://stsci.edu/schemas/jwst_datamodel/ifuimage.schema\n",
     "output_type": "error",
     "traceback": [
      "\u001b[0;31m---------------------------------------------------------------------------\u001b[0m",
      "\u001b[0;31mRuntimeError\u001b[0m                              Traceback (most recent call last)",
      "\u001b[0;32m<ipython-input-10-92cdcaabce97>\u001b[0m in \u001b[0;36m<module>\u001b[0;34m\u001b[0m\n\u001b[1;32m      1\u001b[0m \u001b[0mspec2\u001b[0m\u001b[0;34m=\u001b[0m\u001b[0mSpec2Pipeline\u001b[0m\u001b[0;34m(\u001b[0m\u001b[0;34m)\u001b[0m\u001b[0;34m\u001b[0m\u001b[0;34m\u001b[0m\u001b[0m\n\u001b[0;32m----> 2\u001b[0;31m \u001b[0mspec2\u001b[0m\u001b[0;34m(\u001b[0m\u001b[0mrate_files\u001b[0m\u001b[0;34m[\u001b[0m\u001b[0;36m0\u001b[0m\u001b[0;34m]\u001b[0m\u001b[0;34m)\u001b[0m\u001b[0;34m\u001b[0m\u001b[0;34m\u001b[0m\u001b[0m\n\u001b[0m",
      "\u001b[0;32m~/miniconda3/lib/python3.8/site-packages/stpipe/step.py\u001b[0m in \u001b[0;36mrun\u001b[0;34m(self, *args)\u001b[0m\n\u001b[1;32m    428\u001b[0m                         \u001b[0mself\u001b[0m\u001b[0;34m.\u001b[0m\u001b[0mprefetch\u001b[0m\u001b[0;34m(\u001b[0m\u001b[0;34m*\u001b[0m\u001b[0margs\u001b[0m\u001b[0;34m)\u001b[0m\u001b[0;34m\u001b[0m\u001b[0;34m\u001b[0m\u001b[0m\n\u001b[1;32m    429\u001b[0m                     \u001b[0;32mtry\u001b[0m\u001b[0;34m:\u001b[0m\u001b[0;34m\u001b[0m\u001b[0;34m\u001b[0m\u001b[0m\n\u001b[0;32m--> 430\u001b[0;31m                         \u001b[0mstep_result\u001b[0m \u001b[0;34m=\u001b[0m \u001b[0mself\u001b[0m\u001b[0;34m.\u001b[0m\u001b[0mprocess\u001b[0m\u001b[0;34m(\u001b[0m\u001b[0;34m*\u001b[0m\u001b[0margs\u001b[0m\u001b[0;34m)\u001b[0m\u001b[0;34m\u001b[0m\u001b[0;34m\u001b[0m\u001b[0m\n\u001b[0m\u001b[1;32m    431\u001b[0m                     \u001b[0;32mexcept\u001b[0m \u001b[0mTypeError\u001b[0m \u001b[0;32mas\u001b[0m \u001b[0me\u001b[0m\u001b[0;34m:\u001b[0m\u001b[0;34m\u001b[0m\u001b[0;34m\u001b[0m\u001b[0m\n\u001b[1;32m    432\u001b[0m                         \u001b[0;32mif\u001b[0m \u001b[0;34m\"process() takes exactly\"\u001b[0m \u001b[0;32min\u001b[0m \u001b[0mstr\u001b[0m\u001b[0;34m(\u001b[0m\u001b[0me\u001b[0m\u001b[0;34m)\u001b[0m\u001b[0;34m:\u001b[0m\u001b[0;34m\u001b[0m\u001b[0;34m\u001b[0m\u001b[0m\n",
      "\u001b[0;32m~/miniconda3/lib/python3.8/site-packages/jwst/pipeline/calwebb_spec2.py\u001b[0m in \u001b[0;36mprocess\u001b[0;34m(self, data)\u001b[0m\n\u001b[1;32m    133\u001b[0m \u001b[0;34m\u001b[0m\u001b[0m\n\u001b[1;32m    134\u001b[0m         \u001b[0;32mif\u001b[0m \u001b[0mlen\u001b[0m\u001b[0;34m(\u001b[0m\u001b[0mfailures\u001b[0m\u001b[0;34m)\u001b[0m \u001b[0;34m>\u001b[0m \u001b[0;36m0\u001b[0m \u001b[0;32mand\u001b[0m \u001b[0mself\u001b[0m\u001b[0;34m.\u001b[0m\u001b[0mfail_on_exception\u001b[0m\u001b[0;34m:\u001b[0m\u001b[0;34m\u001b[0m\u001b[0;34m\u001b[0m\u001b[0m\n\u001b[0;32m--> 135\u001b[0;31m             \u001b[0;32mraise\u001b[0m \u001b[0mRuntimeError\u001b[0m\u001b[0;34m(\u001b[0m\u001b[0;34m'\\n'\u001b[0m\u001b[0;34m.\u001b[0m\u001b[0mjoin\u001b[0m\u001b[0;34m(\u001b[0m\u001b[0mfailures\u001b[0m\u001b[0;34m)\u001b[0m\u001b[0;34m)\u001b[0m\u001b[0;34m\u001b[0m\u001b[0;34m\u001b[0m\u001b[0m\n\u001b[0m\u001b[1;32m    136\u001b[0m \u001b[0;34m\u001b[0m\u001b[0m\n\u001b[1;32m    137\u001b[0m         \u001b[0;31m# We're done\u001b[0m\u001b[0;34m\u001b[0m\u001b[0;34m\u001b[0m\u001b[0;34m\u001b[0m\u001b[0m\n",
      "\u001b[0;31mRuntimeError\u001b[0m: Traceback (most recent call last):\n  File \"/Users/bemiles/miniconda3/lib/python3.8/site-packages/jwst/pipeline/calwebb_spec2.py\", line 117, in process\n    result = self.process_exposure_product(\n  File \"/Users/bemiles/miniconda3/lib/python3.8/site-packages/jwst/pipeline/calwebb_spec2.py\", line 177, in process_exposure_product\n    with self.open_model(science_member) as science:\n  File \"/Users/bemiles/miniconda3/lib/python3.8/site-packages/stpipe/step.py\", line 1145, in open_model\n    return datamodels_open(self.make_input_path(init), **kwargs)\n  File \"/Users/bemiles/miniconda3/lib/python3.8/site-packages/jwst/stpipe/core.py\", line 24, in _datamodels_open\n    return datamodels.open(init, **kwargs)\n  File \"/Users/bemiles/miniconda3/lib/python3.8/site-packages/jwst/datamodels/util.py\", line 217, in open\n    model = new_class(init, **kwargs)\n  File \"/Users/bemiles/miniconda3/lib/python3.8/site-packages/jwst/datamodels/ifuimage.py\", line 65, in __init__\n    super(IFUImageModel, self).__init__(init=init, **kwargs)\n  File \"/Users/bemiles/miniconda3/lib/python3.8/site-packages/stdatamodels/model_base.py\", line 174, in __init__\n    schema = asdf_schema.load_schema(self.schema_url, resolve_references=True)\n  File \"/Users/bemiles/miniconda3/lib/python3.8/site-packages/asdf/schema.py\", line 435, in load_schema\n    return copy.deepcopy(_load_schema_cached(url, resolver, resolve_references, resolve_local_refs))\n  File \"/Users/bemiles/miniconda3/lib/python3.8/site-packages/asdf/schema.py\", line 482, in _load_schema_cached\n    schema, url = loader(url)\n  File \"/Users/bemiles/miniconda3/lib/python3.8/site-packages/asdf/schema.py\", line 359, in load_schema\n    return _load_schema(url)\n  File \"/Users/bemiles/miniconda3/lib/python3.8/site-packages/asdf/schema.py\", line 323, in _load_schema\n    raise FileNotFoundError(\"Unable to fetch schema from non-file URL: \" + url)\nFileNotFoundError: Unable to fetch schema from non-file URL: http://stsci.edu/schemas/jwst_datamodel/ifuimage.schema\n"
     ]
    }
   ],
   "source": [
    "spec2=Spec2Pipeline()\n",
    "spec2(rate_files[0])"
   ]
  },
  {
   "cell_type": "code",
   "execution_count": null,
   "metadata": {},
   "outputs": [],
   "source": []
  }
 ],
 "metadata": {
  "kernelspec": {
   "display_name": "Python 3",
   "language": "python",
   "name": "python3"
  },
  "language_info": {
   "codemirror_mode": {
    "name": "ipython",
    "version": 3
   },
   "file_extension": ".py",
   "mimetype": "text/x-python",
   "name": "python",
   "nbconvert_exporter": "python",
   "pygments_lexer": "ipython3",
   "version": "3.8.5"
  }
 },
 "nbformat": 4,
 "nbformat_minor": 2
}
